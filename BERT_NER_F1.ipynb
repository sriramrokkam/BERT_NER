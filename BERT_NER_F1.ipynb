{
  "nbformat": 4,
  "nbformat_minor": 0,
  "metadata": {
    "colab": {
      "private_outputs": true,
      "provenance": [],
      "gpuType": "T4"
    },
    "kernelspec": {
      "name": "python3",
      "display_name": "Python 3"
    },
    "language_info": {
      "name": "python"
    },
    "accelerator": "GPU"
  },
  "cells": [
    {
      "cell_type": "code",
      "execution_count": null,
      "metadata": {
        "id": "ifYnyyXybcaX"
      },
      "outputs": [],
      "source": [
        "\n",
        "!pip install simpletransformers\n",
        ""
      ]
    },
    {
      "cell_type": "code",
      "source": [
        "import pandas as pd\n",
        "data = pd.read_csv(\"/content/ner_dataset.csv\",encoding=\"latin1\" )\n",
        "data.head(30)\n",
        "data = data.head(20000)"
      ],
      "metadata": {
        "id": "Aj4djmVeh3sq"
      },
      "execution_count": null,
      "outputs": []
    },
    {
      "cell_type": "code",
      "source": [
        "data =data.fillna(method =\"ffill\")\n",
        "data.head(30)"
      ],
      "metadata": {
        "id": "k4JyqOuQiFfi"
      },
      "execution_count": null,
      "outputs": []
    },
    {
      "cell_type": "code",
      "source": [
        "from sklearn.preprocessing import LabelEncoder\n",
        "from sklearn.model_selection import train_test_split\n",
        "from sklearn.metrics import accuracy_score\n",
        "data[\"Sentence #\"] = LabelEncoder().fit_transform(data[\"Sentence #\"] )\n",
        "\n",
        "data.head(30)"
      ],
      "metadata": {
        "id": "ISs4Qoa5iRT6"
      },
      "execution_count": null,
      "outputs": []
    },
    {
      "cell_type": "code",
      "source": [
        "data.rename(columns={\"Sentence #\":\"sentence_id\",\"Word\":\"words\",\"Tag\":\"labels\"}, inplace =True)"
      ],
      "metadata": {
        "id": "S9pD6gXBik-O"
      },
      "execution_count": null,
      "outputs": []
    },
    {
      "cell_type": "code",
      "source": [
        "data[\"labels\"] = data[\"labels\"].str.upper()\n",
        "\n",
        "X= data[[\"sentence_id\",\"words\"]]\n",
        "Y =data[\"labels\"]\n",
        "\n",
        "x_train, x_test, y_train, y_test = train_test_split(X,Y, test_size =0.2)\n",
        "\n",
        "#building up train data and test data\n",
        "train_data = pd.DataFrame({\"sentence_id\":x_train[\"sentence_id\"],\"words\":x_train[\"words\"],\"labels\":y_train})\n",
        "test_data = pd.DataFrame({\"sentence_id\":x_test[\"sentence_id\"],\"words\":x_test[\"words\"],\"labels\":y_test})\n",
        "train_data"
      ],
      "metadata": {
        "id": "Z0FOtwhcjB3K"
      },
      "execution_count": null,
      "outputs": []
    },
    {
      "cell_type": "markdown",
      "source": [
        "### Model Training"
      ],
      "metadata": {
        "id": "QI2Sa1RIjb3f"
      }
    },
    {
      "cell_type": "code",
      "source": [
        "from simpletransformers.ner import NERModel,NERArgs\n",
        "label = data[\"labels\"].unique().tolist()\n",
        "label"
      ],
      "metadata": {
        "id": "bjNdRqRujgOZ"
      },
      "execution_count": null,
      "outputs": []
    },
    {
      "cell_type": "code",
      "source": [
        "args = NERArgs()\n",
        "args.num_train_epochs = 1\n",
        "args.learning_rate = 1e-4\n",
        "args.overwrite_output_dir =True\n",
        "args.train_batch_size = 32\n",
        "args.eval_batch_size = 32"
      ],
      "metadata": {
        "id": "30vdRkY4jzgX"
      },
      "execution_count": null,
      "outputs": []
    },
    {
      "cell_type": "code",
      "source": [
        "model = NERModel('bert', 'bert-base-cased', labels=label, args=args, use_cuda=False)"
      ],
      "metadata": {
        "id": "VbX-ijZGj2_c"
      },
      "execution_count": null,
      "outputs": []
    },
    {
      "cell_type": "code",
      "source": [
        "r = model.train_model(train_data,eval_data = test_data,acc=accuracy_score)"
      ],
      "metadata": {
        "id": "K_FtRyAskGjH"
      },
      "execution_count": null,
      "outputs": []
    },
    {
      "cell_type": "code",
      "source": [
        "result, model_outputs, preds_list = model.eval_model(test_data)"
      ],
      "metadata": {
        "id": "2FxIDcQEkL5M"
      },
      "execution_count": null,
      "outputs": []
    },
    {
      "cell_type": "code",
      "source": [
        "result"
      ],
      "metadata": {
        "id": "HQa4-a2mkSB5"
      },
      "execution_count": null,
      "outputs": []
    },
    {
      "cell_type": "code",
      "source": [
        "prediction, model_output = model.predict([\"Hello This is Sriram, I am an indian\"])"
      ],
      "metadata": {
        "id": "Q7jwp05YkV30"
      },
      "execution_count": null,
      "outputs": []
    },
    {
      "cell_type": "code",
      "source": [
        "prediction"
      ],
      "metadata": {
        "id": "7ohtnFPTkaAl"
      },
      "execution_count": null,
      "outputs": []
    },
    {
      "cell_type": "code",
      "source": [
        "# Can you plot the accuracy and training\n"
      ],
      "metadata": {
        "id": "CI8G-TR0c_le"
      },
      "execution_count": null,
      "outputs": []
    }
  ]
}