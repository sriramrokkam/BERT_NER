{
  "nbformat": 4,
  "nbformat_minor": 0,
  "metadata": {
    "colab": {
      "private_outputs": true,
      "provenance": [],
      "gpuType": "T4",
      "toc_visible": true
    },
    "kernelspec": {
      "name": "python3",
      "display_name": "Python 3"
    },
    "language_info": {
      "name": "python"
    },
    "accelerator": "GPU"
  },
  "cells": [
    {
      "cell_type": "code",
      "execution_count": null,
      "metadata": {
        "id": "ifYnyyXybcaX"
      },
      "outputs": [],
      "source": [
        "\n",
        "!pip install simpletransformers\n"
      ]
    },
    {
      "cell_type": "markdown",
      "source": [
        "## 1. Import the data:\n",
        "## Note: replace variable 'path' to dataset :  [ner_dataset.csv](https://github.com/sriramrokkam/NLP_NER_BERT/blob/BITS/ner_dataset.csv)"
      ],
      "metadata": {
        "id": "t3_rTegkzzUe"
      }
    },
    {
      "cell_type": "code",
      "source": [
        "import pandas as pd\n",
        "path = \"/content/ner_dataset.csv\"\n",
        "data = pd.read_csv(path,encoding=\"latin1\" )\n",
        "data.head(30)\n",
        "data = data.head(500) ## change value for number of records."
      ],
      "metadata": {
        "id": "Aj4djmVeh3sq"
      },
      "execution_count": null,
      "outputs": []
    },
    {
      "cell_type": "markdown",
      "source": [
        "## 2. Fill the missing values"
      ],
      "metadata": {
        "id": "WV6OCGhdzscJ"
      }
    },
    {
      "cell_type": "code",
      "source": [
        "data =data.fillna(method =\"ffill\")\n",
        "data.head(30)"
      ],
      "metadata": {
        "id": "k4JyqOuQiFfi"
      },
      "execution_count": null,
      "outputs": []
    },
    {
      "cell_type": "code",
      "source": [
        "from sklearn.preprocessing import LabelEncoder\n",
        "from sklearn.model_selection import train_test_split\n",
        "from sklearn.metrics import accuracy_score\n",
        "data[\"Sentence #\"] = LabelEncoder().fit_transform(data[\"Sentence #\"] )\n",
        "data.head(30)"
      ],
      "metadata": {
        "id": "ISs4Qoa5iRT6"
      },
      "execution_count": null,
      "outputs": []
    },
    {
      "cell_type": "code",
      "source": [
        "data.rename(columns={\"Sentence #\":\"sentence_id\",\"Word\":\"words\",\"Tag\":\"labels\"}, inplace =True)"
      ],
      "metadata": {
        "id": "S9pD6gXBik-O"
      },
      "execution_count": null,
      "outputs": []
    },
    {
      "cell_type": "markdown",
      "source": [
        "## 3. Split Data: Training and Testing"
      ],
      "metadata": {
        "id": "piF5O1ky3AbC"
      }
    },
    {
      "cell_type": "code",
      "source": [
        "data[\"labels\"] = data[\"labels\"].str.upper()\n",
        "\n",
        "X= data[[\"sentence_id\",\"words\"]]\n",
        "Y =data[\"labels\"]\n",
        "\n",
        "x_train, x_test, y_train, y_test = train_test_split(X,Y, test_size =0.2)\n",
        "\n",
        "#building up train data and test data\n",
        "train_data = pd.DataFrame({\"sentence_id\":x_train[\"sentence_id\"],\"words\":x_train[\"words\"],\"labels\":y_train})\n",
        "test_data = pd.DataFrame({\"sentence_id\":x_test[\"sentence_id\"],\"words\":x_test[\"words\"],\"labels\":y_test})\n",
        "train_data"
      ],
      "metadata": {
        "id": "Z0FOtwhcjB3K"
      },
      "execution_count": null,
      "outputs": []
    },
    {
      "cell_type": "markdown",
      "source": [
        "## 4. Build and Train Model"
      ],
      "metadata": {
        "id": "QI2Sa1RIjb3f"
      }
    },
    {
      "cell_type": "code",
      "source": [
        "from simpletransformers.ner import NERModel,NERArgs\n",
        "label = data[\"labels\"].unique().tolist()\n",
        "label"
      ],
      "metadata": {
        "id": "bjNdRqRujgOZ"
      },
      "execution_count": null,
      "outputs": []
    },
    {
      "cell_type": "code",
      "source": [
        "args = NERArgs()\n",
        "args.num_train_epochs = 1\n",
        "args.learning_rate = 1e-4\n",
        "args.overwrite_output_dir =True\n",
        "args.train_batch_size = 32\n",
        "args.eval_batch_size = 32"
      ],
      "metadata": {
        "id": "30vdRkY4jzgX"
      },
      "execution_count": null,
      "outputs": []
    },
    {
      "cell_type": "code",
      "source": [
        "model = NERModel('bert', 'bert-base-cased', labels=label, args=args, use_cuda=False)"
      ],
      "metadata": {
        "id": "VbX-ijZGj2_c"
      },
      "execution_count": null,
      "outputs": []
    },
    {
      "cell_type": "code",
      "source": [
        "r = model.train_model(train_data,eval_data = test_data,acc=accuracy_score)"
      ],
      "metadata": {
        "id": "K_FtRyAskGjH"
      },
      "execution_count": null,
      "outputs": []
    },
    {
      "cell_type": "code",
      "source": [
        "result, model_outputs, preds_list = model.eval_model(test_data)"
      ],
      "metadata": {
        "id": "2FxIDcQEkL5M"
      },
      "execution_count": null,
      "outputs": []
    },
    {
      "cell_type": "code",
      "source": [
        "result"
      ],
      "metadata": {
        "id": "HQa4-a2mkSB5"
      },
      "execution_count": null,
      "outputs": []
    },
    {
      "cell_type": "markdown",
      "source": [
        "## 5. Evaluation"
      ],
      "metadata": {
        "id": "sV7WVJxe3yvB"
      }
    },
    {
      "cell_type": "code",
      "source": [
        "validation_sentence = [\"They marched from the Houses of Parliament to a rally in Hyde Park .\"]\n",
        "prediction, model_output = model.predict(validation_sentence)"
      ],
      "metadata": {
        "id": "Q7jwp05YkV30"
      },
      "execution_count": null,
      "outputs": []
    },
    {
      "cell_type": "code",
      "source": [
        "prediction"
      ],
      "metadata": {
        "id": "7ohtnFPTkaAl"
      },
      "execution_count": null,
      "outputs": []
    },
    {
      "cell_type": "markdown",
      "source": [
        "## 6. Save Tokenizer and Model"
      ],
      "metadata": {
        "id": "VJJgwLZt28qq"
      }
    },
    {
      "cell_type": "code",
      "source": [
        "# Save the model and tokenizer after training\n",
        "# model.save_model(\"ner_model_v1\")\n",
        "import shutil\n",
        "import os\n",
        "\n",
        "# Define the model folder path\n",
        "model_dir = \"ner_model\"\n",
        "\n",
        "# Check if the folder exists and remove it if necessary\n",
        "if os.path.exists(model_dir):\n",
        "    shutil.rmtree(model_dir)  # This will delete the existing folder and its contents\n",
        "\n",
        "# Save the model and tokenizer after deleting the existing folder\n",
        "model.save_model(model_dir)\n"
      ],
      "metadata": {
        "id": "A_c-buly2Dp4"
      },
      "execution_count": null,
      "outputs": []
    },
    {
      "cell_type": "markdown",
      "source": [
        "## 7. Load the Model\n",
        "## Note: 1.\n",
        "1.   use_cuda = True (for GPU) and False (for CPU)\n",
        "2.   Check the 'outputs' folder.\n",
        "##       "
      ],
      "metadata": {
        "id": "Yh3XCMDE3_O9"
      }
    },
    {
      "cell_type": "code",
      "source": [
        "from simpletransformers.ner import NERModel\n",
        "\n",
        "# Load the saved model\n",
        "# Add the 'args' parameter to specify the configuration\n",
        "model = NERModel(\n",
        "    \"bert\",\n",
        "    \"outputs\",\n",
        "    use_cuda=False,\n",
        "    args={\"overwrite_output_dir\": True} # This allows you to overwrite the output directory if it already exists\n",
        ")\n"
      ],
      "metadata": {
        "id": "f4Jglop92Jt7"
      },
      "execution_count": null,
      "outputs": []
    },
    {
      "cell_type": "markdown",
      "source": [
        "# 8. Compare the Results"
      ],
      "metadata": {
        "id": "nHlmOD-b9x5s"
      }
    },
    {
      "cell_type": "code",
      "source": [
        "#\n",
        "predictions, raw_outputs = model.predict(test_Sentence)\n",
        "\n",
        "# Print the predictions\n",
        "print(predictions)\n"
      ],
      "metadata": {
        "id": "bWkFDSz52Mz-"
      },
      "execution_count": null,
      "outputs": []
    }
  ]
}