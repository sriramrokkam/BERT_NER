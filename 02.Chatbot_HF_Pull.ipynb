{
  "cells": [
    {
      "cell_type": "code",
      "execution_count": 12,
      "metadata": {
        "id": "DfncQwjBfUfG"
      },
      "outputs": [
        {
          "name": "stdout",
          "output_type": "stream",
          "text": [
            "Requirement already satisfied: transformers in /Users/I310202/anaconda3/envs/env_nlp/lib/python3.10/site-packages (4.45.2)\n",
            "Requirement already satisfied: filelock in /Users/I310202/anaconda3/envs/env_nlp/lib/python3.10/site-packages (from transformers) (3.16.1)\n",
            "Requirement already satisfied: huggingface-hub<1.0,>=0.23.2 in /Users/I310202/anaconda3/envs/env_nlp/lib/python3.10/site-packages (from transformers) (0.25.2)\n",
            "Requirement already satisfied: numpy>=1.17 in /Users/I310202/anaconda3/envs/env_nlp/lib/python3.10/site-packages (from transformers) (1.26.4)\n",
            "Requirement already satisfied: packaging>=20.0 in /Users/I310202/anaconda3/envs/env_nlp/lib/python3.10/site-packages (from transformers) (24.1)\n",
            "Requirement already satisfied: pyyaml>=5.1 in /Users/I310202/anaconda3/envs/env_nlp/lib/python3.10/site-packages (from transformers) (6.0.2)\n",
            "Requirement already satisfied: regex!=2019.12.17 in /Users/I310202/anaconda3/envs/env_nlp/lib/python3.10/site-packages (from transformers) (2024.9.11)\n",
            "Requirement already satisfied: requests in /Users/I310202/anaconda3/envs/env_nlp/lib/python3.10/site-packages (from transformers) (2.32.3)\n",
            "Requirement already satisfied: safetensors>=0.4.1 in /Users/I310202/anaconda3/envs/env_nlp/lib/python3.10/site-packages (from transformers) (0.4.5)\n",
            "Requirement already satisfied: tokenizers<0.21,>=0.20 in /Users/I310202/anaconda3/envs/env_nlp/lib/python3.10/site-packages (from transformers) (0.20.1)\n",
            "Requirement already satisfied: tqdm>=4.27 in /Users/I310202/anaconda3/envs/env_nlp/lib/python3.10/site-packages (from transformers) (4.66.5)\n",
            "Requirement already satisfied: fsspec>=2023.5.0 in /Users/I310202/anaconda3/envs/env_nlp/lib/python3.10/site-packages (from huggingface-hub<1.0,>=0.23.2->transformers) (2024.6.1)\n",
            "Requirement already satisfied: typing-extensions>=3.7.4.3 in /Users/I310202/anaconda3/envs/env_nlp/lib/python3.10/site-packages (from huggingface-hub<1.0,>=0.23.2->transformers) (4.12.2)\n",
            "Requirement already satisfied: charset-normalizer<4,>=2 in /Users/I310202/anaconda3/envs/env_nlp/lib/python3.10/site-packages (from requests->transformers) (3.4.0)\n",
            "Requirement already satisfied: idna<4,>=2.5 in /Users/I310202/anaconda3/envs/env_nlp/lib/python3.10/site-packages (from requests->transformers) (3.10)\n",
            "Requirement already satisfied: urllib3<3,>=1.21.1 in /Users/I310202/anaconda3/envs/env_nlp/lib/python3.10/site-packages (from requests->transformers) (2.2.3)\n",
            "Requirement already satisfied: certifi>=2017.4.17 in /Users/I310202/anaconda3/envs/env_nlp/lib/python3.10/site-packages (from requests->transformers) (2024.8.30)\n"
          ]
        }
      ],
      "source": [
        "!pip install transformers"
      ]
    },
    {
      "cell_type": "code",
      "execution_count": 13,
      "metadata": {
        "id": "tLAQmNy7rU5O"
      },
      "outputs": [
        {
          "name": "stdout",
          "output_type": "stream",
          "text": [
            "Welcome to the NER Chatbot! Type 'exit' to stop.\n"
          ]
        },
        {
          "name": "stderr",
          "output_type": "stream",
          "text": [
            "Hardware accelerator e.g. GPU is available in the environment, but no `device` argument is passed to the `Pipeline` object. Model will be on CPU.\n"
          ]
        },
        {
          "name": "stdout",
          "output_type": "stream",
          "text": [
            "\n",
            "NER Results:\n",
            "Word: India, Entity: B-GEO, Confidence: 0.9599999785423279\n",
            "Word: Bangalore, Entity: B-GEO, Confidence: 0.9070000052452087\n",
            "Word: 9, Entity: B-TIM, Confidence: 0.4359999895095825\n",
            "Word: pm, Entity: I-TIM, Confidence: 0.5649999976158142\n",
            "Word: 10, Entity: B-TIM, Confidence: 0.6159999966621399\n",
            "Word: 202, Entity: B-TIM, Confidence: 0.8399999737739563\n",
            "Word: ##4, Entity: I-TIM, Confidence: 0.8199999928474426\n",
            "\n",
            "NER Results:\n",
            "Word: Bangalore, Entity: B-GEO, Confidence: 0.9649999737739563\n",
            "\n",
            "NER Results:\n",
            "Word: ##dia, Entity: B-GEO, Confidence: 0.6800000071525574\n",
            "Word: 9, Entity: B-TIM, Confidence: 0.5649999976158142\n",
            "Word: pm, Entity: I-TIM, Confidence: 0.5709999799728394\n",
            "\n",
            "NER Results:\n",
            "Word: Microsoft, Entity: B-ORG, Confidence: 0.984000027179718\n",
            "Word: A, Entity: I-ORG, Confidence: 0.6399999856948853\n",
            "Word: ##zure, Entity: I-ORG, Confidence: 0.3269999921321869\n",
            "Word: Cloud, Entity: I-ORG, Confidence: 0.8389999866485596\n",
            "Word: Computing, Entity: I-ORG, Confidence: 0.9580000042915344\n",
            "\n",
            "NER Results:\n",
            "Word: Micro, Entity: I-PER, Confidence: 0.4359999895095825\n",
            "Word: ##s, Entity: I-PER, Confidence: 0.2919999957084656\n",
            "Word: ##fo, Entity: I-ORG, Confidence: 0.38199999928474426\n",
            "Word: Windows, Entity: B-ART, Confidence: 0.33000001311302185\n",
            "Word: Operating, Entity: I-ORG, Confidence: 0.4309999942779541\n",
            "Word: System, Entity: I-ORG, Confidence: 0.6010000109672546\n",
            "Word: John, Entity: B-PER, Confidence: 0.9309999942779541\n",
            "Word: A, Entity: I-PER, Confidence: 0.7089999914169312\n",
            "Word: ##bra, Entity: I-PER, Confidence: 0.7210000157356262\n",
            "Word: ##hm, Entity: I-PER, Confidence: 0.6549999713897705\n",
            "Word: Albert, Entity: B-ORG, Confidence: 0.2919999957084656\n",
            "Word: Einstein, Entity: I-PER, Confidence: 0.7699999809265137\n",
            "\n",
            "NER Results:\n",
            "Word: Iraqi, Entity: B-GPE, Confidence: 0.996999979019165\n",
            "\n",
            "NER Results:\n",
            "Word: Iraqi, Entity: B-GPE, Confidence: 0.996999979019165\n",
            "\n",
            "NER Results:\n",
            "Word: May, Entity: B-TIM, Confidence: 0.9710000157356262\n",
            "Word: U, Entity: B-GEO, Confidence: 0.9290000200271606\n",
            "Word: S, Entity: B-GEO, Confidence: 0.9039999842643738\n",
            "Word: Venezuelan, Entity: B-GPE, Confidence: 0.996999979019165\n",
            "Word: Cuban, Entity: B-GPE, Confidence: 0.9980000257492065\n",
            "Word: Venezuelan, Entity: B-GPE, Confidence: 0.9980000257492065\n",
            "Goodbye!\n"
          ]
        }
      ],
      "source": [
        "from transformers import AutoTokenizer, AutoModelForTokenClassification, pipeline\n",
        "\n",
        "def ner_chatbot():\n",
        "    print(\"Welcome to the NER Chatbot! Type 'exit' to stop.\")\n",
        "\n",
        "    # Get the hf_token from the user\n",
        "    hf_token = input(\"Enter your Hugging Face token: \")\n",
        "\n",
        "    # Initialize the tokenizer and model using the user-provided token\n",
        "    model_name = \"sriramrokkam/bert_ner\"\n",
        "    tokenizer = AutoTokenizer.from_pretrained(model_name, token=hf_token)\n",
        "    model = AutoModelForTokenClassification.from_pretrained(model_name, token=hf_token)\n",
        "\n",
        "    # Create the NER pipeline\n",
        "    nlp = pipeline(\"ner\", model=model, tokenizer=tokenizer)\n",
        "\n",
        "    while True:\n",
        "        # Take input from the user\n",
        "        input_text = input(\"\\nEnter a sentence: \")\n",
        "\n",
        "        # Exit the chatbot if the user types 'exit'\n",
        "        if input_text.lower() == 'exit':\n",
        "            print(\"Goodbye!\")\n",
        "            break\n",
        "\n",
        "        # Process the input text and get NER results\n",
        "        ner_results = nlp(input_text)\n",
        "\n",
        "        # Display the NER results\n",
        "        if ner_results:\n",
        "            print(\"\\nNER Results:\")\n",
        "            for entity in ner_results:\n",
        "                word = entity['word']\n",
        "                entity_type = entity['entity']\n",
        "                score = round(entity['score'], 3)\n",
        "                print(f\"Word: {word}, Entity: {entity_type}, Confidence: {score}\")\n",
        "        else:\n",
        "            print(\"No named entities recognized.\")\n",
        "\n",
        "# Run the chatbot function\n",
        "ner_chatbot()"
      ]
    }
  ],
  "metadata": {
    "colab": {
      "private_outputs": true,
      "provenance": []
    },
    "kernelspec": {
      "display_name": "Python 3",
      "name": "python3"
    },
    "language_info": {
      "name": "python"
    }
  },
  "nbformat": 4,
  "nbformat_minor": 0
}
