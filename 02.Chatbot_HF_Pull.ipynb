{
  "nbformat": 4,
  "nbformat_minor": 0,
  "metadata": {
    "colab": {
      "private_outputs": true,
      "provenance": []
    },
    "kernelspec": {
      "name": "python3",
      "display_name": "Python 3"
    },
    "language_info": {
      "name": "python"
    }
  },
  "cells": [
    {
      "cell_type": "code",
      "source": [
        "!pip install transformers"
      ],
      "metadata": {
        "id": "DfncQwjBfUfG"
      },
      "execution_count": null,
      "outputs": []
    },
    {
      "cell_type": "code",
      "execution_count": null,
      "metadata": {
        "id": "tLAQmNy7rU5O"
      },
      "outputs": [],
      "source": [
        "from transformers import AutoTokenizer, AutoModelForTokenClassification, pipeline\n",
        "\n",
        "def ner_chatbot():\n",
        "    print(\"Welcome to the NER Chatbot! Type 'exit' to stop.\")\n",
        "\n",
        "    # Get the hf_token from the user\n",
        "    hf_token = input(\"Enter your Hugging Face token: \")\n",
        "\n",
        "    # Initialize the tokenizer and model using the user-provided token\n",
        "    model_name = \"sriramrokkam/bert_ner\"\n",
        "    tokenizer = AutoTokenizer.from_pretrained(model_name, token=hf_token)\n",
        "    model = AutoModelForTokenClassification.from_pretrained(model_name, token=hf_token)\n",
        "\n",
        "    # Create the NER pipeline\n",
        "    nlp = pipeline(\"ner\", model=model, tokenizer=tokenizer)\n",
        "\n",
        "    while True:\n",
        "        # Take input from the user\n",
        "        input_text = input(\"\\nEnter a sentence: \")\n",
        "\n",
        "        # Exit the chatbot if the user types 'exit'\n",
        "        if input_text.lower() == 'exit':\n",
        "            print(\"Goodbye!\")\n",
        "            break\n",
        "\n",
        "        # Process the input text and get NER results\n",
        "        ner_results = nlp(input_text)\n",
        "\n",
        "        # Display the NER results\n",
        "        if ner_results:\n",
        "            print(\"\\nNER Results:\")\n",
        "            for entity in ner_results:\n",
        "                word = entity['word']\n",
        "                entity_type = entity['entity']\n",
        "                score = round(entity['score'], 3)\n",
        "                print(f\"Word: {word}, Entity: {entity_type}, Confidence: {score}\")\n",
        "        else:\n",
        "            print(\"No named entities recognized.\")\n",
        "\n",
        "# Run the chatbot function\n",
        "ner_chatbot()"
      ]
    }
  ]
}